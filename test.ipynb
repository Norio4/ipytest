{
 "cells": [
  {
   "cell_type": "markdown",
   "metadata": {},
   "source": [
    "# Plotting Phasors"
   ]
  },
  {
   "cell_type": "code",
   "execution_count": null,
   "metadata": {},
   "outputs": [],
   "source": [
    "import matplotlib.pyplot as plt\n",
    "import numpy as np\n",
    "\n",
    "# フェーザの大きさと角度（ラジアン）を定義\n",
    "V1 = [2, np.radians(-120)]\n",
    "V2 = [2, np.radians(120)]\n",
    "V3 = [2, np.radians(180)]\n",
    "V4 = [2*np.sqrt(3), np.radians(-90)]\n",
    "\n",
    "# フェーザを複素数表示に変換\n",
    "V1_complex = [V1[0]*np.cos(V1[1]), V1[0]*np.sin(V1[1])]\n",
    "V2_complex = [V2[0]*np.cos(V2[1]), V2[0]*np.sin(V2[1])]\n",
    "V3_complex = [V3[0]*np.cos(V3[1]), V3[0]*np.sin(V3[1])]\n",
    "V4_complex = [V4[0]*np.cos(V4[1]), V4[0]*np.sin(V4[1])]\n",
    "\n",
    "# グラフの作成\n",
    "plt.figure()\n",
    "plt.quiver(0, 0, V1_complex[0], V1_complex[1], angles='xy', scale_units='xy', scale=1, color='r', label='V1')\n",
    "plt.quiver(0, 0, V2_complex[0], V2_complex[1], angles='xy', scale_units='xy', scale=1, color='g', label='V2')\n",
    "plt.quiver(0, 0, V3_complex[0], V3_complex[1], angles='xy', scale_units='xy', scale=1, color='b', label='V3')\n",
    "plt.quiver(0, 0, V4_complex[0], V4_complex[1], angles='xy', scale_units='xy', scale=1, color='c', label='V4')\n",
    "plt.xlim(-3, 3)\n",
    "plt.ylim(-3, 3)\n",
    "plt.axhline(0, color='black',linewidth=0.5)\n",
    "plt.axvline(0, color='black',linewidth=0.5)\n",
    "plt.grid(color = 'gray', linestyle = '--', linewidth = 0.5)\n",
    "plt.legend()\n",
    "plt.show()"
   ]
  }
 ],
 "metadata": {
  "kernelspec": {
   "display_name": "Python 3",
   "language": "python",
   "name": "python3"
  },
  "language_info": {
   "codemirror_mode": {
     "name": "ipython",
     "version": 3
    },
    "file_extension": ".py",
    "mimetype": "text/x-python",
    "name": "python",
    "nbconvert_exporter": "python",
    "pygments_lexer": "ipython3",
    "version": "3.8.5"
   }
  },
 "nbformat": 4,
 "nbformat_minor": 4
}
